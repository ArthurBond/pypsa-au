{
 "cells": [
  {
   "cell_type": "code",
   "execution_count": 2,
   "metadata": {},
   "outputs": [],
   "source": [
    "import pandas as pd"
   ]
  },
  {
   "cell_type": "markdown",
   "metadata": {},
   "source": [
    "## Want to avoid transforming data as much as possible\n",
    "\n",
    "- Don't need to format transmission lines from digital atlas (https://digital.atlas.gov.au/datasets/digitalatlas::electricity-transmission-lines/about)\n",
    "- Data originally comes from Geoscience Australia (https://ecat.ga.gov.au/geonetwork/srv/api/records/fd46e23f-484d-4b40-8f10-9de3ed57fb1f)\n"
   ]
  },
  {
   "cell_type": "code",
   "execution_count": 3,
   "metadata": {},
   "outputs": [
    {
     "data": {
      "text/plain": [
       "'/Users/abond/pypsa-au'"
      ]
     },
     "execution_count": 3,
     "metadata": {},
     "output_type": "execute_result"
    }
   ],
   "source": [
    "pwd()"
   ]
  },
  {
   "cell_type": "markdown",
   "metadata": {},
   "source": [
    "#### Transmission"
   ]
  },
  {
   "cell_type": "markdown",
   "metadata": {},
   "source": [
    "Grab the busid from ga_guids or objectid, voltage from capacitykv. \n",
    "\n",
    "Make df of index,bus0,bus1 extracted from name; split on 'to'. Map index to bus0, apply to bus1. Find locations of all busses, generators close to each bus are given that bus_id (make a coordinates column). Make a column with a REZ_tag to later be able to agg easily."
   ]
  },
  {
   "cell_type": "code",
   "execution_count": null,
   "metadata": {},
   "outputs": [],
   "source": [
    "df = pd.read_csv(\"../data/raw/Electricity_Transmission_Lines.csv\")\n",
    "\n",
    "# columns = length_m,objectid,featuretype,description,class,name,operationalstatus,\n",
    "#           state,spatialconfidence,revised,ga_guid,capacitykv,comment_,st_lengthshape\n",
    "\n",
    "# df.columns = ['line_id','bus0','bus1','voltage','circuits','length','underground','under_construction','tags','geometry']\n",
    "\n",
    "# df.to_csv(\"../data/grid/lines.csv\") # saved as lines.\n"
   ]
  },
  {
   "cell_type": "markdown",
   "metadata": {},
   "source": [
    "#### Generators"
   ]
  },
  {
   "cell_type": "markdown",
   "metadata": {},
   "source": [
    "Want: generator_id,bus_id,technology,capacity,tags,geometry,name,under_construction\n",
    "\n",
    "Find bus_id using location matching and buses.csv?\n",
    "\n",
    "Extract id, capacity, names etc from GenInfo."
   ]
  },
  {
   "cell_type": "code",
   "execution_count": 6,
   "metadata": {},
   "outputs": [],
   "source": [
    "df = pd.read_csv(\"../data/raw/Major_Power_Stations.csv\")\n",
    "\n",
    "# columns = X,Y,objectid,featuretype,description,class,name,\n",
    "#           operationalstatus,owner,generationtype,primaryfueltype,\n",
    "#           primarysubfueltype,generationmw,generatornumber,locality,state,\n",
    "#           spatialconfidence,revised,ga_guid,comment_,x_coordinate,y_coordinate\n",
    "\n",
    "# df.to_csv(\"../data/grid/generators.csv\") # saved as generators."
   ]
  },
  {
   "cell_type": "markdown",
   "metadata": {},
   "source": [
    "#### Buses"
   ]
  },
  {
   "cell_type": "markdown",
   "metadata": {},
   "source": [
    "This will include all substations + need to figure out if the other bus ids are from location matching - ask Iman."
   ]
  },
  {
   "cell_type": "code",
   "execution_count": null,
   "metadata": {},
   "outputs": [],
   "source": [
    "df = pd.read_csv(\"../data/raw/Transmission_Substations.csv\")\n",
    "\n",
    "# columns = X,Y,objectid,featuretype,class,name,operationalstatus,\n",
    "#           state,spatialconfidence,revised,ga_guid,description,voltagekv,\n",
    "#           locality,comment_,x_coordinate,y_coordinate\n",
    "\n",
    "# df.to_csv(\"../data/grid/buses.csv\") # saved as buses."
   ]
  },
  {
   "cell_type": "markdown",
   "metadata": {},
   "source": [
    "#### Converters"
   ]
  },
  {
   "cell_type": "markdown",
   "metadata": {},
   "source": [
    "DC-DC DC-AC links?"
   ]
  },
  {
   "cell_type": "markdown",
   "metadata": {},
   "source": []
  }
 ],
 "metadata": {
  "kernelspec": {
   "display_name": "Python 3",
   "language": "python",
   "name": "python3"
  },
  "language_info": {
   "codemirror_mode": {
    "name": "ipython",
    "version": 3
   },
   "file_extension": ".py",
   "mimetype": "text/x-python",
   "name": "python",
   "nbconvert_exporter": "python",
   "pygments_lexer": "ipython3",
   "version": "3.11.2"
  }
 },
 "nbformat": 4,
 "nbformat_minor": 2
}
